{
 "cells": [
  {
   "cell_type": "markdown",
   "metadata": {},
   "source": [
    "# Tema 02: Operadores y expresiones (Enunciados)\n",
    "*Nota: Estos ejercicios son optativos para hacer al final de la unidad y están pensados para apoyar tu aprendizaje*."
   ]
  },
  {
   "cell_type": "markdown",
   "metadata": {},
   "source": [
    "**1) Realiza un programa que lea 2 números por teclado y determine los siguientes aspectos (es suficiene con mostrar True o False):**\n",
    "* Si los dos números son iguales\n",
    "* Si los dos números son diferentes\n",
    "* Si el primero es mayor que el segundo\n",
    "* Si el segundo es mayor o igual que el primero"
   ]
  },
  {
   "cell_type": "code",
   "execution_count": 1,
   "metadata": {},
   "outputs": [
    {
     "name": "stdout",
     "output_type": "stream",
     "text": [
      "Programa que pide dos numeros y dice si es cierto lo siguiente:\n",
      "1.Si los dos números son iguales\n",
      "2.Si los dos números son diferentes\n",
      "3.Si el primero es mayor que el segundo\n",
      "4.Si el segundo es mayor o igual que el primero\n"
     ]
    },
    {
     "name": "stdin",
     "output_type": "stream",
     "text": [
      "Introduce el primer numero:  -4.5\n",
      "Introduce el segundo:  0\n"
     ]
    },
    {
     "name": "stdout",
     "output_type": "stream",
     "text": [
      "El resultado 1 es: False\n",
      "El resultado 2 es: True\n",
      "El resultado 3 es: False\n",
      "El resultado 4 es: True\n"
     ]
    }
   ],
   "source": [
    "print(\"Programa que pide dos numeros y dice si es cierto lo siguiente:\")\n",
    "\n",
    "print(\"1.Si los dos números son iguales\")\n",
    "print(\"2.Si los dos números son diferentes\")\n",
    "print(\"3.Si el primero es mayor que el segundo\")\n",
    "print(\"4.Si el segundo es mayor o igual que el primero\")\n",
    "\n",
    "numero_uno=float(input(\"Introduce el primer numero: \"))\n",
    "numero_dos=float(input(\"Introduce el segundo: \"))\n",
    "\n",
    "resultado_uno= (numero_uno==numero_dos)\n",
    "print(f\"El resultado 1 es: {resultado_uno}\")\n",
    "\n",
    "resultado_dos= (numero_uno!=numero_dos)\n",
    "print(f\"El resultado 2 es: {resultado_dos}\")\n",
    "\n",
    "resultado_tres= (numero_uno>numero_dos)\n",
    "print(f\"El resultado 3 es: {resultado_tres}\")\n",
    "\n",
    "resultado_cuatro= (numero_dos>=numero_uno)\n",
    "print(f\"El resultado 4 es: {resultado_cuatro}\")"
   ]
  },
  {
   "cell_type": "markdown",
   "metadata": {},
   "source": [
    "**2) Utilizando operadores lógicos, determina si una cadena de texto introducida por el usuario tiene una longitud mayor o igual que 3 y a su vez es menor que 10 (es suficiene con mostrar True o False):**"
   ]
  },
  {
   "cell_type": "code",
   "execution_count": 3,
   "metadata": {},
   "outputs": [
    {
     "name": "stdout",
     "output_type": "stream",
     "text": [
      "Programa que te dice si una cadena de texto introducida por el usuario tiene una longitud mayor o igual que 3 y a su vez es menor que 10\n"
     ]
    },
    {
     "name": "stdin",
     "output_type": "stream",
     "text": [
      "Introduce una frase:  hola\n"
     ]
    },
    {
     "name": "stdout",
     "output_type": "stream",
     "text": [
      "Resultado: True\n"
     ]
    }
   ],
   "source": [
    "print(\"Programa que te dice si una cadena de texto introducida por el usuario tiene una longitud mayor o igual que 3 y a su vez es menor que 10\")\n",
    "\n",
    "texto=input(\"Introduce una frase: \")\n",
    "\n",
    "comprobacion=len(texto)>=3 and len(texto)<10\n",
    "\n",
    "print(f\"Resultado: {comprobacion}\")"
   ]
  },
  {
   "cell_type": "markdown",
   "metadata": {},
   "source": [
    "**3) Realiza un programa que cumpla el siguiente algoritmo utilizando siempre que sea posible operadores en asignación:**\n",
    "* Guarda en una variable numero_magico el valor 12345679 (sin el 8)\n",
    "* Lee por pantalla otro numero_usuario, especifica que sea entre 1 y 9 (asegúrate que es un número)\n",
    "* Multiplica el numero_usuario por 9 en sí mismo\n",
    "* Multiplica el numero_magico por el numero_usuario en sí mismo\n",
    "* Finalmente muestra el valor final del numero_magico por pantalla\n"
   ]
  },
  {
   "cell_type": "code",
   "execution_count": 4,
   "metadata": {},
   "outputs": [
    {
     "name": "stdin",
     "output_type": "stream",
     "text": [
      "Introduce un numero del 1 al 9:  7\n"
     ]
    },
    {
     "name": "stdout",
     "output_type": "stream",
     "text": [
      "777777777\n"
     ]
    }
   ],
   "source": [
    "numero_magico= 12345679\n",
    "numero_usuario=int(input(\"Introduce un numero del 1 al 9: \"))\n",
    "\n",
    "numero_usuario*=9\n",
    "numero_magico*=numero_usuario\n",
    "\n",
    "print(numero_magico)"
   ]
  },
  {
   "cell_type": "code",
   "execution_count": null,
   "metadata": {},
   "outputs": [],
   "source": []
  }
 ],
 "metadata": {
  "anaconda-cloud": {},
  "kernelspec": {
   "display_name": "Python 3 (ipykernel)",
   "language": "python",
   "name": "python3"
  },
  "language_info": {
   "codemirror_mode": {
    "name": "ipython",
    "version": 3
   },
   "file_extension": ".py",
   "mimetype": "text/x-python",
   "name": "python",
   "nbconvert_exporter": "python",
   "pygments_lexer": "ipython3",
   "version": "3.12.8"
  }
 },
 "nbformat": 4,
 "nbformat_minor": 4
}
