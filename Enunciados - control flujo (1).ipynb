{
 "cells": [
  {
   "cell_type": "markdown",
   "metadata": {},
   "source": [
    "# Tema 03: Control de flujo (Enunciados)\n",
    "*Nota: Estos ejercicios son optativos para hacer al final de la unidad y están pensados para apoyar tu aprendizaje*."
   ]
  },
  {
   "cell_type": "markdown",
   "metadata": {},
   "source": [
    "**1) Realiza un programa que lea dos números por teclado y permita elegir entre 3 opciones en un menú:** \n",
    "* Mostrar una suma de los dos números\n",
    "* Mostrar una resta de los dos números (el primero menos el segundo)\n",
    "* Mostrar una multiplicación de los dos números\n",
    "* En caso de no introducir una opción válida, el programa informará de que no es correcta."
   ]
  },
  {
   "cell_type": "code",
   "execution_count": 6,
   "metadata": {},
   "outputs": [
    {
     "name": "stdout",
     "output_type": "stream",
     "text": [
      "Introduce los dos numeros que quieras sumar/restar/multiplicar\n"
     ]
    },
    {
     "name": "stdin",
     "output_type": "stream",
     "text": [
      "Introduce el primer numero:  -2.5\n",
      "Introduce el segundo numero:  -4\n"
     ]
    },
    {
     "name": "stdout",
     "output_type": "stream",
     "text": [
      "Introduce la operacion que deseas realizar con estos dos numeros\n",
      "1.Sumar\n",
      "2.Restar\n",
      "3.Multiplicar\n"
     ]
    },
    {
     "name": "stdin",
     "output_type": "stream",
     "text": [
      "Introduce la opcion que desees:  3\n"
     ]
    },
    {
     "name": "stdout",
     "output_type": "stream",
     "text": [
      "-2.5 multiplicado por -4.0\n",
      "El resultado es: 10.0\n"
     ]
    }
   ],
   "source": [
    "print(\"Introduce los dos numeros que quieras sumar/restar/multiplicar\")\n",
    "numero_uno=float(input(\"Introduce el primer numero: \"))\n",
    "numero_dos=float(input(\"Introduce el segundo numero: \"))\n",
    "\n",
    "print(\"Introduce la operacion que deseas realizar con estos dos numeros\")\n",
    "print(\"1.Sumar\")\n",
    "print(\"2.Restar\")\n",
    "print(\"3.Multiplicar\")\n",
    "opcion_menu=int(input(\"Introduce la opcion que desees: \"))\n",
    "\n",
    "if opcion_menu<1:\n",
    "    print(\"Numero no valido\")\n",
    "elif opcion_menu==1:\n",
    "    resultado=(numero_uno+numero_dos)\n",
    "    print(f\"{numero_uno} mas {numero_dos}\")\n",
    "    print(f\"El resultado es: {resultado}\")\n",
    "elif opcion_menu==2:\n",
    "    resultado=(numero_uno-numero_dos)\n",
    "    print(f\"{numero_uno} menos {numero_dos}\")\n",
    "    print(f\"El resultado es: {resultado}\")\n",
    "elif opcion_menu==3:\n",
    "    resultado=(numero_uno*numero_dos)\n",
    "    print(f\"{numero_uno} multiplicado por {numero_dos}\")\n",
    "    print(f\"El resultado es: {resultado}\")\n",
    "else:\n",
    "    print(\"Numero no valido\")"
   ]
  },
  {
   "cell_type": "markdown",
   "metadata": {},
   "source": [
    "**2) Realiza un programa que lea un número impar por teclado. Si el usuario no introduce un número impar, debe repetise el proceso hasta que lo introduzca correctamente.**"
   ]
  },
  {
   "cell_type": "code",
   "execution_count": 7,
   "metadata": {},
   "outputs": [
    {
     "name": "stdout",
     "output_type": "stream",
     "text": [
      "Introduce un numero impar, de lo contrario el programa se reiniciará y se le pedira de nuevo introducir un numero impar\n"
     ]
    },
    {
     "name": "stdin",
     "output_type": "stream",
     "text": [
      "Introduce un numero impar:  4\n",
      "Introduce un numero impar:  6\n",
      "Introduce un numero impar:  3\n"
     ]
    }
   ],
   "source": [
    "print(\"Introduce un numero impar, de lo contrario el programa se reiniciará y se le pedira de nuevo introducir un numero impar\")\n",
    "\n",
    "es_impar=False\n",
    "\n",
    "while es_impar==False:\n",
    "    numero=int(input(\"Introduce un numero impar: \"))\n",
    "    if numero%2==0:\n",
    "        es_impar=False\n",
    "    else:\n",
    "        es_impar=True"
   ]
  },
  {
   "cell_type": "markdown",
   "metadata": {},
   "source": [
    "**3) Realiza un programa que sume todos los números enteros pares desde el 0 hasta el 100:**\n",
    "\n",
    "*Sugerencia: Puedes utilizar la funciones sum() y range() para hacerlo más fácil. El tercer parámetro en la función range(inicio, fin, salto) indica un salto de números, pruébalo.*"
   ]
  },
  {
   "cell_type": "code",
   "execution_count": 8,
   "metadata": {},
   "outputs": [
    {
     "name": "stdout",
     "output_type": "stream",
     "text": [
      "Programa que suma todos los números enteros pares desde el 0 hasta el 100\n",
      "El resultado es: 2550\n"
     ]
    }
   ],
   "source": [
    "print(\"Programa que suma todos los números enteros pares desde el 0 hasta el 100\")\n",
    "\n",
    "suma=sum(range(0,101,2))\n",
    "print(f\"El resultado es: {suma}\")"
   ]
  },
  {
   "cell_type": "markdown",
   "metadata": {},
   "source": [
    "**4) Realiza un programa que pida al usuario cuantos números quiere introducir. Luego lee todos los números y realiza una media aritmética:**\n"
   ]
  },
  {
   "cell_type": "code",
   "execution_count": 10,
   "metadata": {},
   "outputs": [
    {
     "name": "stdout",
     "output_type": "stream",
     "text": [
      "Programa que pide al usuario cuantos números quiere introducir. Luego lee todos los números y realiza una media aritmética\n"
     ]
    },
    {
     "name": "stdin",
     "output_type": "stream",
     "text": [
      "Introduce la cantidad de numeros que desees:  10\n",
      "Introduce el número 1:  1\n",
      "Introduce el número 2:  9\n",
      "Introduce el número 3:  8\n",
      "Introduce el número 4:  2\n",
      "Introduce el número 5:  4\n",
      "Introduce el número 6:  6\n",
      "Introduce el número 7:  3\n",
      "Introduce el número 8:  7\n",
      "Introduce el número 9:  6\n",
      "Introduce el número 10:  4\n"
     ]
    },
    {
     "name": "stdout",
     "output_type": "stream",
     "text": [
      "La media es: 5.0\n"
     ]
    }
   ],
   "source": [
    "print(\"Programa que pide al usuario cuantos números quiere introducir. Luego lee todos los números y realiza una media aritmética\")\n",
    "\n",
    "cantidad_numeros=int(input(\"Introduce la cantidad de numeros que desees: \"))\n",
    "\n",
    "suma=0\n",
    "\n",
    "for i in range(cantidad_numeros):\n",
    "    numero = float(input(f\"Introduce el número {i+1}: \"))\n",
    "    suma=numero+suma\n",
    "\n",
    "media= suma/cantidad_numeros\n",
    "\n",
    "print(f\"La media es: {media}\")"
   ]
  },
  {
   "cell_type": "markdown",
   "metadata": {},
   "source": [
    "**5) Realiza un programa que pida al usuario un número entero del 0 al 9, y que mientras el número no sea correcto se repita el proceso. Luego debe comprobar si el número se encuentra en la lista de números y notificarlo:**\n",
    "\n",
    "*Consejo: La sintaxis \"valor in lista\" permite comprobar fácilmente si un valor se encuentra en una lista (devuelve True o False)*"
   ]
  },
  {
   "cell_type": "code",
   "execution_count": 11,
   "metadata": {},
   "outputs": [
    {
     "name": "stdout",
     "output_type": "stream",
     "text": [
      "Introduce un numero entero del 0 al 9, si se introduce un numero no valido el programa se reiniciara y volvera a pedir el numero. Se comprobara que este numero este en la lista de numeros validos y se notificara\n"
     ]
    },
    {
     "name": "stdin",
     "output_type": "stream",
     "text": [
      "Introduce un numero entero del 1 al 9:  0.5\n"
     ]
    },
    {
     "name": "stdout",
     "output_type": "stream",
     "text": [
      "El numero no es valido\n"
     ]
    },
    {
     "name": "stdin",
     "output_type": "stream",
     "text": [
      "Introduce un numero entero del 1 al 9:  21321\n"
     ]
    },
    {
     "name": "stdout",
     "output_type": "stream",
     "text": [
      "El numero no es valido\n"
     ]
    },
    {
     "name": "stdin",
     "output_type": "stream",
     "text": [
      "Introduce un numero entero del 1 al 9:  2\n"
     ]
    },
    {
     "name": "stdout",
     "output_type": "stream",
     "text": [
      "El numero es valido\n"
     ]
    }
   ],
   "source": [
    "print(\"Introduce un numero entero del 0 al 9, si se introduce un numero no valido el programa se reiniciara y volvera a pedir el numero. Se comprobara que este numero este en la lista de numeros validos y se notificara\")\n",
    "\n",
    "es_del_uno_al_nueve=False\n",
    "numeros_validos=[0,1,2,3,4,5,6,7,8,9]\n",
    "\n",
    "while es_del_uno_al_nueve==False:\n",
    "    numero=float(input(\"Introduce un numero entero del 1 al 9: \"))\n",
    "    if numero>9 or numero<0:\n",
    "        print(\"El numero no es valido\")\n",
    "    elif numero in numeros_validos:\n",
    "        es_del_uno_al_nueve=True\n",
    "        print(\"El numero es valido\")\n",
    "    else:\n",
    "        es_del_uno_al_nueve=False\n",
    "        print(\"El numero no es valido\")\n",
    "    "
   ]
  },
  {
   "cell_type": "code",
   "execution_count": null,
   "metadata": {},
   "outputs": [],
   "source": []
  },
  {
   "cell_type": "markdown",
   "metadata": {},
   "source": [
    "**6) Utilizando la función range() y la conversión a listas genera las siguientes listas dinámicamente:**\n",
    "* Todos los números del 0 al 10 [0, 1, 2, ..., 10]\n",
    "* Todos los números del -10 al 0 [-10, -9, -8, ..., 0]\n",
    "* Todos los números pares del 0 al 20 [0, 2, 4, ..., 20]\n",
    "* Todos los números impares entre -20 y 0 [-19, -17, -15, ..., -1]\n",
    "* Todos los números múltiples de 5 del 0 al 50 [0, 5, 10, ..., 50]\n",
    "\n",
    "*Pista: Utiliza el tercer parámetro de la función range(inicio, fin, salto).*"
   ]
  },
  {
   "cell_type": "code",
   "execution_count": 12,
   "metadata": {},
   "outputs": [
    {
     "name": "stdout",
     "output_type": "stream",
     "text": [
      "[0, 1, 2, 3, 4, 5, 6, 7, 8, 9, 10]\n",
      "[-10, -9, -8, -7, -6, -5, -4, -3, -2, -1, 0]\n",
      "[0, 2, 4, 6, 8, 10, 12, 14, 16, 18, 20]\n",
      "[-19, -17, -15, -13, -11, -9, -7, -5, -3, -1]\n",
      "[0, 5, 10, 15, 20, 25, 30, 35, 40, 45, 50]\n"
     ]
    }
   ],
   "source": [
    "numeros_del_0_al_10=(list(range(0,11)))\n",
    "print(numeros_del_0_al_10)\n",
    "\n",
    "numeros_del_menos_10_al_0=(list(range(-10,1)))\n",
    "print(numeros_del_menos_10_al_0)\n",
    "\n",
    "numeros_pares_del_0_al_20=(list(range(0,21,2)))\n",
    "print(numeros_pares_del_0_al_20)\n",
    "\n",
    "numeros_impares_del_menos_20_al_0=(list(range(-19,0,2)))\n",
    "print(numeros_impares_del_menos_20_al_0)\n",
    "\n",
    "numeros_multiplos_de_5_del_0_al_50=(list(range(0,51,5)))\n",
    "print(numeros_multiplos_de_5_del_0_al_50)"
   ]
  },
  {
   "cell_type": "code",
   "execution_count": null,
   "metadata": {},
   "outputs": [],
   "source": [
    "print(list(range(0,11)))#---Todos los números del 0 al 10\n",
    "print(list(range(-10,1,1)))#---Todos los números del -10 al 0\n",
    "print(list(range(0,21,2)))#---Todos los números pares del 0 al 20\n",
    "print(list(range(-19,1,2)))#---Todos los números impares entre -20 y 0\n",
    "print(list(range(0,51,5)))#---Todos los números múltiples de 5 del 0 al 50"
   ]
  },
  {
   "cell_type": "markdown",
   "metadata": {},
   "source": [
    "**7) Dadas dos listas, debes generar una tercera con todos los elementos que se repitan en ellas, pero no debe repetise ningún elemento en la nueva lista:**"
   ]
  },
  {
   "cell_type": "code",
   "execution_count": 13,
   "metadata": {},
   "outputs": [
    {
     "name": "stdout",
     "output_type": "stream",
     "text": [
      "[1, 5]\n"
     ]
    }
   ],
   "source": [
    "lista1=[1,1,1,2,3,4,4,5,5]\n",
    "lista2=[6,8,5,6,7,9,1]\n",
    "lista3=list(set(lista1)&set(lista2))\n",
    "print(lista3)\n"
   ]
  },
  {
   "cell_type": "code",
   "execution_count": null,
   "metadata": {},
   "outputs": [],
   "source": []
  }
 ],
 "metadata": {
  "anaconda-cloud": {},
  "kernelspec": {
   "display_name": "Python 3 (ipykernel)",
   "language": "python",
   "name": "python3"
  },
  "language_info": {
   "codemirror_mode": {
    "name": "ipython",
    "version": 3
   },
   "file_extension": ".py",
   "mimetype": "text/x-python",
   "name": "python",
   "nbconvert_exporter": "python",
   "pygments_lexer": "ipython3",
   "version": "3.12.8"
  }
 },
 "nbformat": 4,
 "nbformat_minor": 4
}
